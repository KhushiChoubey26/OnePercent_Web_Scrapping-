{
 "cells": [
  {
   "cell_type": "markdown",
   "id": "60bc8668",
   "metadata": {},
   "source": [
    "#  IMPORTING LIBRARIES \n"
   ]
  },
  {
   "cell_type": "code",
   "execution_count": 1,
   "id": "1c7ac66d",
   "metadata": {},
   "outputs": [],
   "source": [
    "import pandas as pd\n",
    "import numpy as np\n",
    "import matplotlib.pyplot as plt\n",
    "import seaborn as sns\n",
    "%matplotlib inline\n",
    "import re\n",
    "import time\n",
    "from datetime import datetime\n",
    "import matplotlib.dates as mdates\n",
    "import matplotlib.ticker as ticker\n",
    "from urllib.request import urlopen\n",
    "\n",
    "from bs4 import BeautifulSoup\n",
    "import requests"
   ]
  },
  {
   "cell_type": "markdown",
   "id": "3cabfc5d",
   "metadata": {},
   "source": [
    "# LOADING WEB PAGES WITH 'REQUEST'"
   ]
  },
  {
   "cell_type": "code",
   "execution_count": 2,
   "id": "c81928a0",
   "metadata": {
    "scrolled": true
   },
   "outputs": [],
   "source": [
    "url = \"https://www.w3schools.com/html/default.asp\"\n",
    "\n",
    "# Lets make a request to \"https://www.w3schools.com/html/default.asp\"\n",
    "# Will store the result in 'res' variable\n",
    "page = requests.get(url)\n",
    "\n",
    "txt = page.text\n",
    "status = page.status_code"
   ]
  },
  {
   "cell_type": "code",
   "execution_count": 3,
   "id": "b0d9ce8e",
   "metadata": {},
   "outputs": [
    {
     "name": "stdout",
     "output_type": "stream",
     "text": [
      "200\n"
     ]
    }
   ],
   "source": [
    "#printing the staus of the requests\n",
    "print(status)"
   ]
  },
  {
   "cell_type": "markdown",
   "id": "a20c7cb7",
   "metadata": {},
   "source": [
    "So it's a successful request"
   ]
  },
  {
   "cell_type": "markdown",
   "id": "a23efa6a",
   "metadata": {},
   "source": [
    "# EXTRACTING TITLE WITH BEAUTIFULSOUP"
   ]
  },
  {
   "cell_type": "code",
   "execution_count": 4,
   "id": "1875f5e7",
   "metadata": {},
   "outputs": [],
   "source": [
    "soup = BeautifulSoup(page.content, 'html.parser')"
   ]
  },
  {
   "cell_type": "code",
   "execution_count": 5,
   "id": "4b290e14",
   "metadata": {},
   "outputs": [
    {
     "name": "stdout",
     "output_type": "stream",
     "text": [
      "HTML Tutorial\n"
     ]
    }
   ],
   "source": [
    "# Extracting title of page\n",
    "page_title = soup.title.text\n",
    "\n",
    "# prining the result\n",
    "print(page_title)"
   ]
  },
  {
   "cell_type": "markdown",
   "id": "b22dadd2",
   "metadata": {},
   "source": [
    "# SOUP-ED BODY AND HEAD "
   ]
  },
  {
   "cell_type": "code",
   "execution_count": 6,
   "id": "45d83642",
   "metadata": {},
   "outputs": [
    {
     "name": "stdout",
     "output_type": "stream",
     "text": [
      "<head>\n",
      "<title>HTML Tutorial</title>\n",
      "<meta charset=\"utf-8\"/>\n",
      "<meta content=\"width=device-width, initial-scale=1\" name=\"viewport\"/>\n",
      "<meta content=\"HTML, Python, CSS, SQL, JavaScript, How to, PHP, Java, C++, jQuery, Bootstrap, C#, Colors, W3.CSS, XML, MySQL, Icons, NodeJS, React, Graphics, Angular, R, AI, Git, Data Science, Code Game, Tutorials, Programming, Web Development, Training, Learning, Quiz, Courses, Lessons, References, Examples, Source code, Demos, Tips\" name=\"Keywords\"/>\n",
      "<meta content=\"Well organized and easy to understand Web building tutorials with lots of examples of how to use HTML, CSS, JavaScript, SQL, Python, PHP, Bootstrap, Java, XML and more.\" name=\"Description\"/>\n",
      "<meta content=\"https://www.w3schools.com/images/w3schools_logo_436_2.png\" property=\"og:image\"/>\n",
      "<meta content=\"image/png\" property=\"og:image:type\"/>\n",
      "<meta content=\"436\" property=\"og:image:width\"/>\n",
      "<meta content=\"228\" property=\"og:image:height\"/>\n",
      "<meta content=\"W3Schools offers free online tutorials, references and exercises in all the major languages of the web. Covering popular subjects like HTML, CSS, JavaScript, Python, SQL, Java, and many, many more.\" property=\"og:description\"/>\n",
      "<link href=\"/favicon.ico\" rel=\"icon\" type=\"image/x-icon\"/>\n",
      "<link as=\"font\" crossorigin=\"\" href=\"/lib/fonts/fontawesome.woff2?14663396\" rel=\"preload\" type=\"font/woff2\"/>\n",
      "<link as=\"font\" crossorigin=\"\" href=\"/lib/fonts/source-code-pro-v14-latin-regular.woff2\" rel=\"preload\" type=\"font/woff2\"/>\n",
      "<link as=\"font\" crossorigin=\"\" href=\"/lib/fonts/roboto-mono-v13-latin-500.woff2\" rel=\"preload\" type=\"font/woff2\"/>\n",
      "<link as=\"font\" crossorigin=\"\" href=\"/lib/fonts/source-sans-pro-v14-latin-700.woff2\" rel=\"preload\" type=\"font/woff2\"/>\n",
      "<link as=\"font\" crossorigin=\"\" href=\"/lib/fonts/source-sans-pro-v14-latin-600.woff2\" rel=\"preload\" type=\"font/woff2\"/>\n",
      "<link as=\"font\" crossorigin=\"\" href=\"/lib/fonts/freckle-face-v9-latin-regular.woff2\" rel=\"preload\" type=\"font/woff2\"/>\n",
      "<link href=\"/lib/w3schools30.css\" rel=\"stylesheet\"/>\n",
      "<script>\n",
      "(function(i,s,o,g,r,a,m){i['GoogleAnalyticsObject']=r;i[r]=i[r]||function(){\n",
      "(i[r].q=i[r].q||[]).push(arguments)},i[r].l=1*new Date();a=s.createElement(o),\n",
      "m=s.getElementsByTagName(o)[0];a.async=1;a.src=g;m.parentNode.insertBefore(a,m)\n",
      "})(window,document,'script','https://www.google-analytics.com/analytics.js','ga');\n",
      "ga('create', 'UA-3855518-1', 'auto');\n",
      "ga('require', 'displayfeatures');\n",
      "ga('require', 'GTM-WJ88MZ5');\n",
      "ga('send', 'pageview');\n",
      "</script>\n",
      "<script data-cfasync=\"false\" type=\"text/javascript\">\n",
      "var k42 = false;\n",
      "\n",
      "k42 = true;\n",
      "\n",
      "</script>\n",
      "<script data-cfasync=\"false\" type=\"text/javascript\">\n",
      "    window.snigelPubConf = {\n",
      "    \"adengine\": {\n",
      "\n",
      "      \"activeAdUnits\": [\"main_leaderboard\", \"sidebar_top\", \"bottom_left\", \"bottom_right\"]\n",
      "\n",
      "  }\n",
      "}\n",
      "</script>\n",
      "<script async=\"\" data-cfasync=\"false\" src=\"https://cdn.snigelweb.com/adengine/w3schools.com/loader.js\" type=\"text/javascript\"></script>\n",
      "<script src=\"/lib/my-learning.js?v=1.0.2\"></script>\n",
      "<script type=\"text/javascript\">\n",
      "var stickyadstatus = \"\";\n",
      "function fix_stickyad() {\n",
      "  document.getElementById(\"stickypos\").style.position = \"sticky\";\n",
      "  var elem = document.getElementById(\"stickyadcontainer\");\n",
      "  if (!elem) {return false;}\n",
      "  if (document.getElementById(\"skyscraper\")) {\n",
      "    var skyWidth = Number(w3_getStyleValue(document.getElementById(\"skyscraper\"), \"width\").replace(\"px\", \"\"));  \n",
      "    }\n",
      "  else {\n",
      "    var skyWidth = Number(w3_getStyleValue(document.getElementById(\"right\"), \"width\").replace(\"px\", \"\"));  \n",
      "  }\n",
      "  elem.style.width = skyWidth + \"px\";\n",
      "  if (window.innerWidth <= 992) {\n",
      "    elem.style.position = \"\";\n",
      "    elem.style.top = stickypos + \"px\";\n",
      "    return false;\n",
      "  }\n",
      "  var stickypos = document.getElementById(\"stickypos\").offsetTop;\n",
      "  var docTop = window.pageYOffset || document.documentElement.scrollTop || document.body.scrollTop;\n",
      "  var adHeight = Number(w3_getStyleValue(elem, \"height\").replace(\"px\", \"\"));\n",
      "  if (stickyadstatus == \"\") {\n",
      "    if ((stickypos - docTop) < 60) {\n",
      "      elem.style.position = \"fixed\";\n",
      "      elem.style.top = \"60px\";\n",
      "      stickyadstatus = \"sticky\";\n",
      "      document.getElementById(\"stickypos\").style.position = \"sticky\";\n",
      "\n",
      "    }\n",
      "  } else {\n",
      "    if ((docTop + 60) - stickypos < 0) {  \n",
      "      elem.style.position = \"\";\n",
      "      elem.style.top = stickypos + \"px\";\n",
      "      stickyadstatus = \"\";\n",
      "      document.getElementById(\"stickypos\").style.position = \"static\";\n",
      "    }\n",
      "  }\n",
      "  if (stickyadstatus == \"sticky\") {\n",
      "    if ((docTop + adHeight + 60) > document.getElementById(\"footer\").offsetTop) {\n",
      "      elem.style.position = \"absolute\";\n",
      "      elem.style.top = (document.getElementById(\"footer\").offsetTop - adHeight) + \"px\";\n",
      "      document.getElementById(\"stickypos\").style.position = \"static\";\n",
      "    } else {\n",
      "        elem.style.position = \"fixed\";\n",
      "        elem.style.top = \"60px\";\n",
      "        stickyadstatus = \"sticky\";\n",
      "        document.getElementById(\"stickypos\").style.position = \"sticky\";\n",
      "    }\n",
      "  }\n",
      "}\n",
      "function w3_getStyleValue(elmnt,style) {\n",
      "  if (window.getComputedStyle) {\n",
      "    return window.getComputedStyle(elmnt,null).getPropertyValue(style);\n",
      "  } else {\n",
      "    return elmnt.currentStyle[style];\n",
      "  }\n",
      "}\n",
      "</script>\n",
      "<style>  \n",
      ".w3-third .bigbtn {\n",
      " border:1px solid #e3e3e3;\n",
      " background-color:#E7E9EB;\n",
      " color:#555;\n",
      " margin-bottom:16px;\n",
      " width:100%;\n",
      " padding:20px 0;\n",
      " text-align: center;\n",
      " vertical-align: middle;\n",
      " display: inline-block;\n",
      " text-decoration:none !important;\n",
      " border-radius:5px;\n",
      "}\n",
      " \n",
      ".bigbtn:hover, .bigbtn2:hover {\n",
      "  background-color: #282A35; \n",
      "  color: #ffffff !important;\n",
      "  border: 1px solid #555;\n",
      "}\n",
      "\n",
      "@media screen and (max-width: 992px){\n",
      ".bigbtn {\n",
      "  display: block;\n",
      "  width: 100%;\n",
      "}\n",
      "}\n",
      ".ribbon-vidx {\n",
      "  width: 60px;\n",
      "  font-size:14px;\n",
      "  padding: 4px;\n",
      "  position: absolute;\n",
      "  left:-20px;\n",
      "  top:-15px;\n",
      "  text-align: center;\n",
      "  color:black;\n",
      "  border-radius:25px;\n",
      "  -ms-transform: rotate(-20deg); /* IE 9 */\n",
      "  transform: rotate(-20deg);\n",
      "}\n",
      "\n",
      ".ws-yellow-hover:hover {\n",
      "  background-color:#fff080!important;\n",
      "  color:black!important;\n",
      "}\n",
      "\n",
      ".ws-hover-black:hover {\n",
      "  background-color:black!important\n",
      "}\n",
      "\n",
      "</style>\n",
      "</head>\n"
     ]
    }
   ],
   "source": [
    "# Extracting body of page\n",
    "page_body = soup.body\n",
    "\n",
    "# Extracting head of page\n",
    "page_head = soup.head\n",
    "\n",
    "# printing the result\n",
    "print(page_head)"
   ]
  },
  {
   "cell_type": "markdown",
   "id": "24deaef9",
   "metadata": {},
   "source": [
    "# SELECT WITH BEAUTIFULSOUP"
   ]
  },
  {
   "cell_type": "code",
   "execution_count": 7,
   "id": "2fa3e370",
   "metadata": {},
   "outputs": [
    {
     "name": "stdout",
     "output_type": "stream",
     "text": [
      "HTML Tutorial\n"
     ]
    }
   ],
   "source": [
    "# Extracting first <h1>(...)</h1> text\n",
    "first_h1 = soup.select('h1')[0].text \n",
    "print(first_h1)"
   ]
  },
  {
   "cell_type": "markdown",
   "id": "3ec18421",
   "metadata": {},
   "source": [
    "# PASSING REQUIRMENTS "
   ]
  },
  {
   "cell_type": "code",
   "execution_count": 8,
   "id": "c0f657fa",
   "metadata": {},
   "outputs": [
    {
     "name": "stdout",
     "output_type": "stream",
     "text": [
      "['HTML Tutorial'] This HTML tutorial also contains nearly 100 HTML exercises.\n"
     ]
    }
   ],
   "source": [
    "# Creating all_h1_tags as empty list\n",
    "all_h1_tags = []\n",
    "\n",
    "# Set all_h1_tags to all h1 tags of the soup\n",
    "for element in soup.select('h1'):\n",
    "    all_h1_tags.append(element.text)\n",
    "\n",
    "# Create seventh_p_text and set it to 7th p element text of the page\n",
    "seventh_p_text = soup.select('p')[7].text\n",
    "\n",
    "print(all_h1_tags, seventh_p_text)"
   ]
  },
  {
   "cell_type": "markdown",
   "id": "e0f6d3df",
   "metadata": {},
   "source": [
    "# MAIN HEADINGS OF HOME PAGE "
   ]
  },
  {
   "cell_type": "code",
   "execution_count": 9,
   "id": "99b4619e",
   "metadata": {
    "scrolled": false
   },
   "outputs": [
    {
     "name": "stdout",
     "output_type": "stream",
     "text": [
      "h2 -> Tutorials\n",
      "h3 -> HTML and CSS\n",
      "h3 -> Data Analytics\n",
      "h3 -> XML Tutorials\n",
      "h3 -> JavaScript\n",
      "h3 -> Programming\n",
      "h3 -> Server Side\n",
      "h3 -> Web Building\n",
      "h3 -> Data Analytics\n",
      "h3 -> XML Tutorials\n",
      "h2 -> References\n",
      "h3 -> HTML\n",
      "h3 -> CSS\n",
      "h3 -> JavaScript\n",
      "h3 -> Programming\n",
      "h3 -> Server Side\n",
      "h3 -> XML\n",
      "h3 -> Character Sets\n",
      "h2 -> Exercises and Quizzes\n",
      "h3 -> Exercises\n",
      "h3 -> Quizzes\n",
      "h3 -> Courses\n",
      "h3 -> Certificates\n",
      "h2 -> HTML Tutorial\n",
      "h2 -> HTML Forms\n",
      "h2 -> HTML Graphics\n",
      "h2 -> HTML Media\n",
      "h2 -> HTML APIs\n",
      "h2 -> HTML Examples\n",
      "h2 -> HTML References\n",
      "h1 -> HTML Tutorial\n",
      "h2 -> Easy Learning with HTML \"Try it Yourself\"\n",
      "h3 -> Example\n",
      "h2 -> HTML Examples\n",
      "h2 -> HTML Exercises\n",
      "h2 -> Test Yourself With Exercises\n",
      "h2 -> Exercise:\n",
      "h2 -> HTML Quiz Test\n",
      "h2 -> HTML References\n",
      "h2 -> Kickstart your career\n",
      "h2 -> Report Error\n",
      "h2 -> Thank You For Helping Us!\n"
     ]
    }
   ],
   "source": [
    "# creating a list of all common heading tags\n",
    "heading_tags = [\"h1\",\"h2\",\"h3\"]\n",
    "for tags in soup.find_all(heading_tags):\n",
    "    print(tags.name + ' -> ' + tags.text.strip())"
   ]
  },
  {
   "cell_type": "markdown",
   "id": "f438d27e",
   "metadata": {},
   "source": [
    "# SUB HEADINGS OF HTML "
   ]
  },
  {
   "cell_type": "code",
   "execution_count": 10,
   "id": "9c48d5b6",
   "metadata": {},
   "outputs": [
    {
     "data": {
      "text/plain": [
       "[<h2 class=\"left\"><span class=\"left_h2\">HTML</span> Tutorial</h2>,\n",
       " <h2 class=\"left\"><span class=\"left_h2\">HTML</span> Forms</h2>,\n",
       " <h2 class=\"left\"><span class=\"left_h2\">HTML</span> Graphics</h2>,\n",
       " <h2 class=\"left\"><span class=\"left_h2\">HTML</span> Media</h2>,\n",
       " <h2 class=\"left\"><span class=\"left_h2\">HTML</span> APIs</h2>,\n",
       " <h2 class=\"left\"><span class=\"left_h2\">HTML</span> Examples</h2>,\n",
       " <h2 class=\"left\"><span class=\"left_h2\">HTML</span> References</h2>]"
      ]
     },
     "execution_count": 10,
     "metadata": {},
     "output_type": "execute_result"
    }
   ],
   "source": [
    "heading1 = soup.find_all('h2', class_ = 'left')\n",
    "heading1"
   ]
  },
  {
   "cell_type": "code",
   "execution_count": 11,
   "id": "77e9bed2",
   "metadata": {},
   "outputs": [
    {
     "name": "stdout",
     "output_type": "stream",
     "text": [
      "HTML Tutorial\n",
      "HTML Forms\n",
      "HTML Graphics\n",
      "HTML Media\n",
      "HTML APIs\n",
      "HTML Examples\n",
      "HTML References\n"
     ]
    }
   ],
   "source": [
    "sub_headings = []\n",
    "for i in heading1:\n",
    "    print(i.text)\n",
    "    sub_headings.append(i.text)"
   ]
  },
  {
   "cell_type": "code",
   "execution_count": 12,
   "id": "95b513e8",
   "metadata": {},
   "outputs": [
    {
     "data": {
      "text/plain": [
       "[<a class=\"w3-bar-item w3-button\" href=\"/html/html_quiz.asp\" target=\"_top\">HTML Quiz</a>,\n",
       " <a class=\"w3-bar-item w3-button\" href=\"/css/css_quiz.asp\" target=\"_top\">CSS Quiz</a>,\n",
       " <a class=\"w3-bar-item w3-button\" href=\"/js/js_quiz.asp\" target=\"_top\">JavaScript Quiz</a>,\n",
       " <a class=\"w3-bar-item w3-button\" href=\"/sql/sql_quiz.asp\" target=\"_top\">SQL Quiz</a>,\n",
       " <a class=\"w3-bar-item w3-button\" href=\"/mysql/mysql_quiz.asp\" target=\"_top\">MySQL Quiz</a>,\n",
       " <a class=\"w3-bar-item w3-button\" href=\"/php/php_quiz.asp\" target=\"_top\">PHP Quiz</a>,\n",
       " <a class=\"w3-bar-item w3-button\" href=\"/python/python_quiz.asp\" target=\"_top\">Python Quiz</a>,\n",
       " <a class=\"w3-bar-item w3-button\" href=\"/python/numpy/numpy_quiz.asp\" target=\"_top\">NumPy Quiz</a>,\n",
       " <a class=\"w3-bar-item w3-button\" href=\"/python/pandas/pandas_quiz.asp\" target=\"_top\">Pandas Quiz</a>,\n",
       " <a class=\"w3-bar-item w3-button\" href=\"/python/scipy/scipy_quiz.php\" target=\"_top\">SciPy Quiz</a>,\n",
       " <a class=\"w3-bar-item w3-button\" href=\"/jquery/jquery_quiz.asp\" target=\"_top\">jQuery Quiz</a>,\n",
       " <a class=\"w3-bar-item w3-button\" href=\"/java/java_quiz.asp\" target=\"_top\">Java Quiz</a>,\n",
       " <a class=\"w3-bar-item w3-button\" href=\"/cpp/cpp_quiz.asp\" target=\"_top\">C++ Quiz</a>,\n",
       " <a class=\"w3-bar-item w3-button\" href=\"/cs/cs_quiz.asp\" target=\"_top\">C# Quiz</a>,\n",
       " <a class=\"w3-bar-item w3-button\" href=\"/r/r_quiz.asp\" target=\"_top\">R Quiz</a>,\n",
       " <a class=\"w3-bar-item w3-button\" href=\"/xml/xml_quiz.asp\" target=\"_top\">XML Quiz</a>,\n",
       " <a class=\"w3-bar-item w3-button\" href=\"/bootstrap/bootstrap_quiz.asp\" target=\"_top\">Bootstrap Quiz</a>,\n",
       " <a class=\"w3-bar-item w3-button\" href=\"/bootstrap4/bootstrap_quiz.asp\" target=\"_top\">Bootstrap 4 Quiz</a>,\n",
       " <a class=\"w3-bar-item w3-button\" href=\"/bootstrap5/bootstrap_quiz.php\" target=\"_top\">Bootstrap 5 Quiz</a>,\n",
       " <a href=\"default.asp\" target=\"_top\">HTML HOME</a>,\n",
       " <a href=\"html_intro.asp\" target=\"_top\">HTML Introduction</a>,\n",
       " <a href=\"html_editors.asp\" target=\"_top\">HTML Editors</a>,\n",
       " <a href=\"html_basic.asp\" target=\"_top\">HTML Basic</a>,\n",
       " <a href=\"html_elements.asp\" target=\"_top\">HTML Elements</a>,\n",
       " <a href=\"html_attributes.asp\" target=\"_top\">HTML Attributes</a>,\n",
       " <a href=\"html_headings.asp\" target=\"_top\">HTML Headings</a>,\n",
       " <a href=\"html_paragraphs.asp\" target=\"_top\">HTML Paragraphs</a>,\n",
       " <a href=\"html_styles.asp\" target=\"_top\">HTML Styles</a>,\n",
       " <a href=\"html_formatting.asp\" target=\"_top\">HTML Formatting</a>,\n",
       " <a href=\"html_quotation_elements.asp\" target=\"_top\">HTML Quotations</a>,\n",
       " <a href=\"html_comments.asp\" target=\"_top\">HTML Comments</a>,\n",
       " <a href=\"html_colors.asp\" target=\"_top\">HTML Colors</a>,\n",
       " <a href=\"html_colors.asp\" target=\"_top\">Colors</a>,\n",
       " <a href=\"html_colors_rgb.asp\" target=\"_top\">RGB</a>,\n",
       " <a href=\"html_colors_hex.asp\" target=\"_top\">HEX</a>,\n",
       " <a href=\"html_colors_hsl.asp\" target=\"_top\">HSL</a>,\n",
       " <a href=\"html_css.asp\" target=\"_top\">HTML CSS</a>,\n",
       " <a href=\"html_links.asp\" target=\"_top\">HTML Links</a>,\n",
       " <a href=\"html_links.asp\" target=\"_top\">Links</a>,\n",
       " <a href=\"html_links_colors.asp\" target=\"_top\">Link Colors</a>,\n",
       " <a href=\"html_links_bookmarks.asp\" target=\"_top\">Link Bookmarks</a>,\n",
       " <a href=\"html_images.asp\" target=\"_top\">HTML Images</a>,\n",
       " <a href=\"html_images.asp\" target=\"_top\">Images</a>,\n",
       " <a href=\"html_images_imagemap.asp\" target=\"_top\">Image Map</a>,\n",
       " <a href=\"html_images_background.asp\" target=\"_top\">Background Images</a>,\n",
       " <a href=\"html_images_picture.asp\" target=\"_top\">The Picture Element</a>,\n",
       " <a href=\"html_favicon.asp\" target=\"_top\">HTML Favicon</a>,\n",
       " <a href=\"html_tables.asp\" target=\"_top\">HTML Tables</a>,\n",
       " <a href=\"html_tables.asp\" target=\"_top\">HTML Tables</a>,\n",
       " <a href=\"html_table_borders.asp\" target=\"_top\">Table Borders</a>,\n",
       " <a href=\"html_table_sizes.asp\" target=\"_top\">Table Sizes</a>,\n",
       " <a href=\"html_table_headers.asp\" target=\"_top\">Table Headers</a>,\n",
       " <a href=\"html_table_padding_spacing.asp\" target=\"_top\">Padding &amp; Spacing</a>,\n",
       " <a href=\"html_table_colspan_rowspan.asp\" target=\"_top\">Colspan &amp; Rowspan</a>,\n",
       " <a href=\"html_table_styling.asp\" target=\"_top\">Table Styling</a>,\n",
       " <a href=\"html_table_colgroup.asp\" target=\"_top\">Table Colgroup</a>,\n",
       " <a href=\"html_lists.asp\" target=\"_top\">HTML Lists</a>,\n",
       " <a href=\"html_lists.asp\" target=\"_top\">Lists</a>,\n",
       " <a href=\"html_lists_unordered.asp\" target=\"_top\">Unordered Lists</a>,\n",
       " <a href=\"html_lists_ordered.asp\" target=\"_top\">Ordered Lists</a>,\n",
       " <a href=\"html_lists_other.asp\" target=\"_top\">Other Lists</a>,\n",
       " <a href=\"html_blocks.asp\" target=\"_top\">HTML Block &amp; Inline</a>,\n",
       " <a href=\"html_classes.asp\" target=\"_top\">HTML Classes</a>,\n",
       " <a href=\"html_id.asp\" target=\"_top\">HTML Id</a>,\n",
       " <a href=\"html_iframe.asp\" target=\"_top\">HTML Iframes</a>,\n",
       " <a href=\"html_scripts.asp\" target=\"_top\">HTML JavaScript</a>,\n",
       " <a href=\"html_filepaths.asp\" target=\"_top\">HTML File Paths</a>,\n",
       " <a href=\"html_head.asp\" target=\"_top\">HTML Head</a>,\n",
       " <a href=\"html_layout.asp\" target=\"_top\">HTML Layout</a>,\n",
       " <a href=\"html_responsive.asp\" target=\"_top\">HTML Responsive</a>,\n",
       " <a href=\"html_computercode_elements.asp\" target=\"_top\">HTML Computercode</a>,\n",
       " <a href=\"html5_semantic_elements.asp\" target=\"_top\">HTML Semantics</a>,\n",
       " <a href=\"html5_syntax.asp\" target=\"_top\">HTML Style Guide</a>,\n",
       " <a href=\"html_entities.asp\" target=\"_top\">HTML Entities</a>,\n",
       " <a href=\"html_symbols.asp\" target=\"_top\">HTML Symbols</a>,\n",
       " <a href=\"html_emojis.asp\" target=\"_top\">HTML Emojis</a>,\n",
       " <a href=\"html_charset.asp\" target=\"_top\">HTML Charset</a>,\n",
       " <a href=\"html_urlencode.asp\" target=\"_top\">HTML URL Encode</a>,\n",
       " <a href=\"html_xhtml.asp\" target=\"_top\">HTML vs. XHTML</a>,\n",
       " <a href=\"html_forms.asp\" target=\"_top\">HTML Forms</a>,\n",
       " <a href=\"html_forms_attributes.asp\" target=\"_top\">HTML Form Attributes</a>,\n",
       " <a href=\"html_form_elements.asp\" target=\"_top\">HTML Form Elements</a>,\n",
       " <a href=\"html_form_input_types.asp\" target=\"_top\">HTML Input Types</a>,\n",
       " <a href=\"html_form_attributes.asp\" target=\"_top\">HTML Input Attributes</a>,\n",
       " <a href=\"html_form_attributes_form.asp\" target=\"_top\">HTML Input Form Attributes</a>,\n",
       " <a href=\"html5_canvas.asp\" target=\"_top\">HTML Canvas</a>,\n",
       " <a href=\"html5_svg.asp\" target=\"_top\">HTML SVG</a>,\n",
       " <a href=\"html_media.asp\" target=\"_top\">HTML Media</a>,\n",
       " <a href=\"html5_video.asp\" target=\"_top\">HTML Video</a>,\n",
       " <a href=\"html5_audio.asp\" target=\"_top\">HTML Audio</a>,\n",
       " <a href=\"html_object.asp\" target=\"_top\">HTML Plug-ins</a>,\n",
       " <a href=\"html_youtube.asp\" target=\"_top\">HTML YouTube</a>,\n",
       " <a href=\"html5_geolocation.asp\" target=\"_top\">HTML Geolocation</a>,\n",
       " <a href=\"html5_draganddrop.asp\" target=\"_top\">HTML Drag/Drop</a>,\n",
       " <a href=\"html5_webstorage.asp\" target=\"_top\">HTML Web Storage</a>,\n",
       " <a href=\"html5_webworkers.asp\" target=\"_top\">HTML Web Workers</a>,\n",
       " <a href=\"html5_serversentevents.asp\" target=\"_top\">HTML SSE</a>,\n",
       " <a href=\"html_examples.asp\" target=\"_top\">HTML Examples</a>,\n",
       " <a href=\"html_quiz.asp\" target=\"_top\">HTML Quiz</a>,\n",
       " <a href=\"html_exercises.asp\" target=\"_top\">HTML Exercises</a>,\n",
       " <a href=\"html_exam.asp\" target=\"_top\">HTML Certificate</a>,\n",
       " <a href=\"html_summary.asp\" target=\"_top\">HTML Summary</a>,\n",
       " <a href=\"html_accessibility.asp\" target=\"_top\">HTML Accessibility</a>,\n",
       " <a href=\"/tags/default.asp\" target=\"_top\">HTML Tag List</a>,\n",
       " <a href=\"/tags/ref_attributes.asp\" target=\"_top\">HTML Attributes</a>,\n",
       " <a href=\"/tags/ref_standardattributes.asp\" target=\"_top\">HTML Global Attributes</a>,\n",
       " <a href=\"/tags/ref_html_browsersupport.asp\" target=\"_top\">HTML Browser Support</a>,\n",
       " <a href=\"/tags/ref_eventattributes.asp\" target=\"_top\">HTML Events</a>,\n",
       " <a href=\"/tags/ref_colornames.asp\" target=\"_top\">HTML Colors</a>,\n",
       " <a href=\"/tags/ref_canvas.asp\" target=\"_top\">HTML Canvas</a>,\n",
       " <a href=\"/tags/ref_av_dom.asp\" target=\"_top\">HTML Audio/Video</a>,\n",
       " <a href=\"/tags/ref_html_dtd.asp\" target=\"_top\">HTML Doctypes</a>,\n",
       " <a href=\"/tags/ref_charactersets.asp\" target=\"_top\">HTML Character Sets</a>,\n",
       " <a href=\"/tags/ref_urlencode.asp\" target=\"_top\">HTML URL Encode</a>,\n",
       " <a href=\"/tags/ref_language_codes.asp\" target=\"_top\">HTML Lang Codes</a>,\n",
       " <a href=\"/tags/ref_httpmessages.asp\" target=\"_top\">HTTP Messages</a>,\n",
       " <a href=\"/tags/ref_httpmethods.asp\" target=\"_top\">HTTP Methods</a>,\n",
       " <a href=\"/tags/ref_pxtoemconversion.asp\" target=\"_top\">PX to EM Converter</a>,\n",
       " <a href=\"/tags/ref_keyboardshortcuts.asp\" target=\"_top\">Keyboard Shortcuts</a>,\n",
       " <a class=\"w3-button ws-grey w3-block w3-round\" href=\"/about/default.asp\" style=\"text-decoration:none;margin-top:1px;margin-bottom:1px;font-size:15px\" target=\"_top\">About</a>]"
      ]
     },
     "execution_count": 12,
     "metadata": {},
     "output_type": "execute_result"
    }
   ],
   "source": [
    "# contents in html\n",
    "heading2 = soup.find_all('a', target='_top')\n",
    "heading2"
   ]
  },
  {
   "cell_type": "markdown",
   "id": "c84bf3c8",
   "metadata": {},
   "source": [
    "# Lets scrape the data for the column 'HEADINGS', 'SUB-HEADINGS, 'LINKS', and 'DESCRIPTION'"
   ]
  },
  {
   "cell_type": "markdown",
   "id": "68df0840",
   "metadata": {},
   "source": [
    "----"
   ]
  },
  {
   "cell_type": "code",
   "execution_count": null,
   "id": "7c83cca7",
   "metadata": {},
   "outputs": [],
   "source": []
  },
  {
   "cell_type": "code",
   "execution_count": 183,
   "id": "ae813684",
   "metadata": {
    "scrolled": true
   },
   "outputs": [],
   "source": [
    "# getting the Headings, Sub-Headings, Links and Contents\n",
    "tag = ''\n",
    "page_table = []\n",
    "course_heading = []\n",
    "course_subheading = []\n",
    "course_links = []\n",
    "sub_page_content_list = []\n",
    "unordered_lists = []\n",
    "\n",
    "base_url = \"https://www.w3schools.com/html/\"\n",
    "test = soup.find('div', id='leftmenuinnerinner')\n",
    "\n",
    "for i in test:\n",
    "    if 'h2' in str(i):\n",
    "        tag = i.text\n",
    "    else:\n",
    "        if (tag!='') and ('a href' in str(i)) and ('div class=\"tut_overview\"' not in str(i)):\n",
    "            course_heading.append(tag)\n",
    "            course_subheading.append(i.text)\n",
    "            extra = i.get('href')\n",
    "            if extra[0] == '/':\n",
    "                base_url = \"https://www.w3schools.com\"\n",
    "            \n",
    "            page_url = base_url + extra\n",
    "            course_links.append(page_url)\n",
    "            sub_page = requests.get(page_url)\n",
    "            soup_page = BeautifulSoup(sub_page.content, 'html.parser')\n",
    "            \n",
    "            page_content = soup_page.find_all('div', class_ = 'w3-col l10 m12', id='main')\n",
    "            \n",
    "            #################################################\n",
    "            # Search for tables \n",
    "            tables = soup_page.find_all('table')\n",
    "\n",
    "            data = []\n",
    "            for table in tables:\n",
    "                all_rows = table.find_all('tr')\n",
    "                for row in all_rows:\n",
    "                    row_list = row.find_all('td')\n",
    "                    dataRow = []\n",
    "                    for cells in row_list:\n",
    "                        dataRow.append(cells.text)\n",
    "                    data.append(dataRow)\n",
    "\n",
    "            table_new = []\n",
    "            row = ''\n",
    "            for i in range(1, len(data)):\n",
    "                if len(data[i]) == 0:\n",
    "                    row = row[:-3]\n",
    "                    table_new.append(row) \n",
    "                    row = ''\n",
    "                for j in data[i]:\n",
    "                    row += j + \"|||\"\n",
    "                    # using separator for each column\n",
    "                row = row[:-3]\n",
    "                # using '&&&' separator for each row\n",
    "                row += '&&&'\n",
    "                #print(row)\n",
    "            row = row[:-3]\n",
    "            table_new.append(row)\n",
    "            page_table.append(table_new)\n",
    "            ################################################\n",
    "            \n",
    "            # Points and Example Code\n",
    "            # Unordered lists\n",
    "            ul = soup_page.find_all('ul')\n",
    "            unorder = []\n",
    "            for i in ul:\n",
    "                start_string = ''\n",
    "                for j in i:\n",
    "                    if j.text != '\\n':\n",
    "                        #print(j.text.replace('\\n',''))\n",
    "                        start_string += j.text.replace('\\n','') + '@@@'\n",
    "                s = s[:-3]\n",
    "                unorder.append(start_string)\n",
    "            unordered_lists.append(unorder)\n",
    "            \n",
    "            #################################################\n",
    "        #     print(page_content)\n",
    "            for page_data in page_content: \n",
    "        #         print(page_data)\n",
    "                page_paragraphs = page_data.find_all('p')\n",
    "        #         print(page_paragraphs)\n",
    "            content_per_page = []\n",
    "            for i in page_paragraphs:\n",
    "                content_per_page.append(i.text)\n",
    "            sub_page_content_list.append(content_per_page)\n",
    "            \n",
    "            \n",
    "            \n",
    "            #time.sleep(5)"
   ]
  },
  {
   "cell_type": "code",
   "execution_count": 184,
   "id": "d0b17152",
   "metadata": {},
   "outputs": [],
   "source": [
    "length = len(course_links)"
   ]
  },
  {
   "cell_type": "code",
   "execution_count": 185,
   "id": "e29c6941",
   "metadata": {},
   "outputs": [
    {
     "data": {
      "text/plain": [
       "(77, 77, 77, 77, 77, 77)"
      ]
     },
     "execution_count": 185,
     "metadata": {},
     "output_type": "execute_result"
    }
   ],
   "source": [
    "len(course_heading), len(course_subheading), len(course_links), len(sub_page_content_list), len(page_table), len(unordered_lists)"
   ]
  },
  {
   "cell_type": "code",
   "execution_count": 219,
   "id": "4844cfd9",
   "metadata": {
    "scrolled": false
   },
   "outputs": [
    {
     "name": "stdout",
     "output_type": "stream",
     "text": [
      "Heading ---->>>> Sub-Heading ---->>>> Course link ---->>>> Description ----> Unordered List---->>>> Tabular Data\n",
      "-----------------------------------------------------------------------------------------------------------------------\n",
      "1.  HTML Tutorial--->>> HTML HOME --->>> https://www.w3schools.com/html/default.asp --->>> HTML  --->>> [] --->>> \n",
      "2.  HTML Tutorial--->>> HTML Introduction --->>> https://www.w3schools.com/html/html_intro.asp --->>> HTML ... --->>> HTML --->>> <h1>|\n",
      "\n",
      "\n",
      "3.  HTML Tutorial--->>> HTML Editors --->>> https://www.w3schools.com/html/html_editors.asp --->>> A sim --->>> [] --->>> \n",
      "4.  HTML Tutorial--->>> HTML Basic --->>> https://www.w3schools.com/html/html_basic.asp --->>> In th --->>> [] --->>> \n",
      "5.  HTML Tutorial--->>> HTML Elements --->>> https://www.w3schools.com/html/html_elements.asp --->>> An HT --->>> [] --->>> <h1>|\n",
      "6.  HTML Tutorial--->>> HTML Attributes --->>> https://www.w3schools.com/html/html_attributes.asp --->>> HTML ... --->>> All H--->>> \n",
      "\n",
      "\n",
      "7.  HTML Tutorial--->>> HTML Headings --->>> https://www.w3schools.com/html/html_headings.asp --->>> HTML  --->>> [] --->>> <html\n",
      "8.  HTML Tutorial--->>> HTML Paragraphs --->>> https://www.w3schools.com/html/html_paragraphs.asp --->>> A par --->>> [] --->>> <p>||\n",
      "9.  HTML Tutorial--->>> HTML Styles --->>> https://www.w3schools.com/html/html_styles.asp --->>> The H... --->>> Use t--->>> \n",
      "\n",
      "\n",
      "10.  HTML Tutorial--->>> HTML Formatting --->>> https://www.w3schools.com/html/html_formatting.asp --->>> HTML ... --->>> <b> ---->>> <b>||\n",
      "\n",
      "\n",
      "11.  HTML Tutorial--->>> HTML Quotations --->>> https://www.w3schools.com/html/html_quotation_elements.asp --->>> In th --->>> [] --->>> <abbr\n",
      "12.  HTML Tutorial--->>> HTML Comments --->>> https://www.w3schools.com/html/html_comments.asp --->>> HTML  --->>> [] --->>> \n",
      "13.  HTML Tutorial--->>> HTML Colors --->>> https://www.w3schools.com/html/html_colors.asp --->>> HTML  --->>> [] --->>> \n",
      "14.  HTML Tutorial--->>> HTML CSS --->>> https://www.w3schools.com/html/html_css.asp --->>> CSS s... --->>> Inlin--->>> <styl\n",
      "\n",
      "\n",
      "15.  HTML Tutorial--->>> HTML Links --->>> https://www.w3schools.com/html/html_links.asp --->>> Links... --->>> An un--->>> <a>||\n",
      "\n",
      "\n",
      "16.  HTML Tutorial--->>> HTML Images --->>> https://www.w3schools.com/html/html_images.asp --->>> Image... --->>> src ---->>> APNG|\n",
      "\n",
      "\n",
      "17.  HTML Tutorial--->>> HTML Favicon --->>> https://www.w3schools.com/html/html_favicon.asp --->>> A fav... --->>> Use t--->>> Edge|\n",
      "\n",
      "\n",
      "18.  HTML Tutorial--->>> HTML Tables --->>> https://www.w3schools.com/html/html_tables.asp --->>> HTML  --->>> [] --->>> Alfre\n",
      "19.  HTML Tutorial--->>> HTML Lists --->>> https://www.w3schools.com/html/html_lists.asp --->>> HTML ... --->>> Item@--->>> <ul>|\n",
      "\n",
      "\n",
      "20.  HTML Tutorial--->>> HTML Block & Inline --->>> https://www.w3schools.com/html/html_blocks.asp --->>> Every... --->>> There--->>> <div>\n",
      "\n",
      "\n",
      "21.  HTML Tutorial--->>> HTML Classes --->>> https://www.w3schools.com/html/html_classes.asp --->>> The H... --->>> The H--->>> \n",
      "\n",
      "\n",
      "22.  HTML Tutorial--->>> HTML Id --->>> https://www.w3schools.com/html/html_id.asp --->>> The H... --->>> The i--->>> \n",
      "\n",
      "\n",
      "23.  HTML Tutorial--->>> HTML Iframes --->>> https://www.w3schools.com/html/html_iframe.asp --->>> An HT... --->>> The H--->>> <ifra\n",
      "\n",
      "\n",
      "24.  HTML Tutorial--->>> HTML JavaScript --->>> https://www.w3schools.com/html/html_scripts.asp --->>> JavaS --->>> [] --->>> <scri\n",
      "25.  HTML Tutorial--->>> HTML File Paths --->>> https://www.w3schools.com/html/html_filepaths.asp --->>> A fil... --->>> Web p--->>> <img \n",
      "\n",
      "\n",
      "26.  HTML Tutorial--->>> HTML Head --->>> https://www.w3schools.com/html/html_head.asp --->>> The H... --->>> defin--->>> <head\n",
      "\n",
      "\n",
      "27.  HTML Tutorial--->>> HTML Layout --->>> https://www.w3schools.com/html/html_layout.asp --->>> Websi... --->>> Londo--->>> \n",
      "\n",
      "\n",
      "28.  HTML Tutorial--->>> HTML Responsive --->>> https://www.w3schools.com/html/html_responsive.asp --->>> Respo --->>> [] --->>> \n",
      "29.  HTML Tutorial--->>> HTML Computercode --->>> https://www.w3schools.com/html/html_computercode_elements.asp --->>> HTML ... --->>> The <--->>> <code\n",
      "\n",
      "\n",
      "30.  HTML Tutorial--->>> HTML Semantics --->>> https://www.w3schools.com/html/html5_semantic_elements.asp --->>> Seman... --->>> <arti--->>> <arti\n",
      "\n",
      "\n",
      "31.  HTML Tutorial--->>> HTML Style Guide --->>> https://www.w3schools.com/html/html5_syntax.asp --->>> A con... --->>> Mixin--->>> \n",
      "\n",
      "\n",
      "32.  HTML Tutorial--->>> HTML Entities --->>> https://www.w3schools.com/html/html_entities.asp --->>> Reser... --->>> § 10@--->>> |||no\n",
      "\n",
      "\n",
      "33.  HTML Tutorial--->>> HTML Symbols --->>> https://www.w3schools.com/html/html_symbols.asp --->>> Symbo --->>> [] --->>> ∀|||&\n",
      "34.  HTML Tutorial--->>> HTML Emojis --->>> https://www.w3schools.com/html/html_emojis.asp --->>> Emoji... --->>> A is --->>> 🗻|||&\n",
      "\n",
      "\n",
      "35.  HTML Tutorial--->>> HTML Charset --->>> https://www.w3schools.com/html/html_charset.asp --->>> To di --->>> [] --->>> 32|||\n",
      "36.  HTML Tutorial--->>> HTML URL Encode --->>> https://www.w3schools.com/html/html_urlencode.asp --->>> A URL... --->>> schem--->>> http|\n",
      "\n",
      "\n",
      "37.  HTML Tutorial--->>> HTML vs. XHTML --->>> https://www.w3schools.com/html/html_xhtml.asp --->>> XHTML... --->>> XHTML--->>> \n",
      "\n",
      "\n",
      "38.  HTML Forms--->>> HTML Forms --->>> https://www.w3schools.com/html/html_forms.asp --->>> An HT --->>> [] --->>> <inpu\n",
      "39.  HTML Forms--->>> HTML Form Attributes --->>> https://www.w3schools.com/html/html_forms_attributes.asp --->>> This ... --->>> Appen--->>> _blan\n",
      "\n",
      "\n",
      "40.  HTML Forms--->>> HTML Form Elements --->>> https://www.w3schools.com/html/html_form_elements.asp --->>> This ... --->>>  <inp--->>> <form\n",
      "\n",
      "\n",
      "41.  HTML Forms--->>> HTML Input Types --->>> https://www.w3schools.com/html/html_form_input_types.asp --->>> This ... --->>> <inpu--->>> check\n",
      "\n",
      "\n",
      "42.  HTML Forms--->>> HTML Input Attributes --->>> https://www.w3schools.com/html/html_form_attributes.asp --->>> This  --->>> [] --->>> <form\n",
      "43.  HTML Forms--->>> HTML Input Form Attributes --->>> https://www.w3schools.com/html/html_form_attributes_form.asp --->>> This ... --->>> This --->>> <form\n",
      "\n",
      "\n",
      "44.  HTML Graphics--->>> HTML Canvas --->>> https://www.w3schools.com/html/html5_canvas.asp --->>> The H --->>> [] --->>> <canv\n",
      "45.  HTML Graphics--->>> HTML SVG --->>> https://www.w3schools.com/html/html5_svg.asp --->>> SVG d... --->>> SVG s--->>> <svg>\n",
      "\n",
      "\n",
      "46.  HTML Media--->>> HTML Media --->>> https://www.w3schools.com/html/html_media.asp --->>> Multi --->>> [] --->>> \n",
      "47.  HTML Media--->>> HTML Video --->>> https://www.w3schools.com/html/html5_video.asp --->>> The H --->>> [] --->>> <vide\n",
      "48.  HTML Media--->>> HTML Audio --->>> https://www.w3schools.com/html/html5_audio.asp --->>> The H --->>> [] --->>> <audi\n",
      "49.  HTML Media--->>> HTML Plug-ins --->>> https://www.w3schools.com/html/html_object.asp --->>> Plug-... --->>> To ru--->>> \n",
      "\n",
      "\n",
      "50.  HTML Media--->>> HTML YouTube --->>> https://www.w3schools.com/html/html_youtube.asp --->>> The e... --->>> Uploa--->>> \n",
      "\n",
      "\n",
      "51.  HTML APIs--->>> HTML Geolocation --->>> https://www.w3schools.com/html/html5_geolocation.asp --->>> The H... --->>> Check--->>> Geolo\n",
      "\n",
      "\n",
      "52.  HTML APIs--->>> HTML Drag/Drop --->>> https://www.w3schools.com/html/html5_draganddrop.asp --->>> In HT... --->>> Call --->>> Drag \n",
      "\n",
      "\n",
      "53.  HTML APIs--->>> HTML Web Storage --->>> https://www.w3schools.com/html/html5_webstorage.asp --->>> HTML ... --->>> windo--->>> Web S\n",
      "\n",
      "\n",
      "54.  HTML APIs--->>> HTML Web Workers --->>> https://www.w3schools.com/html/html5_webworkers.asp --->>> A web... --->>> The w--->>> Web W\n",
      "\n",
      "\n",
      "55.  HTML APIs--->>> HTML SSE --->>> https://www.w3schools.com/html/html5_serversentevents.asp --->>> Serve... --->>> Creat--->>> SSE||\n",
      "\n",
      "\n",
      "56.  HTML Examples--->>> HTML Examples --->>> https://www.w3schools.com/html/html_examples.asp --->>> Examp --->>> [] --->>> \n",
      "57.  HTML Examples--->>> HTML Quiz --->>> https://www.w3schools.com/html/html_quiz.asp --->>> You c --->>> [] --->>> \n",
      "58.  HTML Examples--->>> HTML Exercises --->>> https://www.w3schools.com/html/html_exercises.asp --->>> You c --->>> [] --->>> \n",
      "59.  HTML Examples--->>> HTML Certificate --->>> https://www.w3schools.com/html/html_exam.asp --->>> W3Sch... --->>> Study--->>> \n",
      "Docu\n",
      "\n",
      "\n",
      "60.  HTML Examples--->>> HTML Summary --->>> https://www.w3schools.com/html/html_summary.asp --->>> This ... --->>> Use a--->>> \n",
      "\n",
      "\n",
      "61.  HTML Examples--->>> HTML Accessibility --->>> https://www.w3schools.com/html/html_accessibility.asp --->>> Alway... --->>> butto--->>> \n",
      "\n",
      "\n"
     ]
    },
    {
     "ename": "IndexError",
     "evalue": "list index out of range",
     "output_type": "error",
     "traceback": [
      "\u001b[1;31m---------------------------------------------------------------------------\u001b[0m",
      "\u001b[1;31mIndexError\u001b[0m                                Traceback (most recent call last)",
      "\u001b[1;32m~\\AppData\\Local\\Temp/ipykernel_21172/1573452420.py\u001b[0m in \u001b[0;36m<module>\u001b[1;34m\u001b[0m\n\u001b[0;32m      4\u001b[0m     \u001b[1;32mtry\u001b[0m\u001b[1;33m:\u001b[0m\u001b[1;33m\u001b[0m\u001b[1;33m\u001b[0m\u001b[0m\n\u001b[1;32m----> 5\u001b[1;33m         \u001b[0mprint\u001b[0m\u001b[1;33m(\u001b[0m\u001b[1;34mf'{i+1}.  {course_heading[i]}--->>> {course_subheading[i]} --->>> {course_links[i]} --->>> {sub_page_content_list[i][0][:5]}... --->>> {unordered_lists[i][0][:5]}--->>> {page_table[i][0][:5]}'\u001b[0m\u001b[1;33m)\u001b[0m\u001b[1;33m\u001b[0m\u001b[1;33m\u001b[0m\u001b[0m\n\u001b[0m\u001b[0;32m      6\u001b[0m         \u001b[0mprint\u001b[0m\u001b[1;33m(\u001b[0m\u001b[1;34m'\\n'\u001b[0m\u001b[1;33m)\u001b[0m\u001b[1;33m\u001b[0m\u001b[1;33m\u001b[0m\u001b[0m\n",
      "\u001b[1;31mIndexError\u001b[0m: list index out of range",
      "\nDuring handling of the above exception, another exception occurred:\n",
      "\u001b[1;31mIndexError\u001b[0m                                Traceback (most recent call last)",
      "\u001b[1;32m~\\AppData\\Local\\Temp/ipykernel_21172/1573452420.py\u001b[0m in \u001b[0;36m<module>\u001b[1;34m\u001b[0m\n\u001b[0;32m      6\u001b[0m         \u001b[0mprint\u001b[0m\u001b[1;33m(\u001b[0m\u001b[1;34m'\\n'\u001b[0m\u001b[1;33m)\u001b[0m\u001b[1;33m\u001b[0m\u001b[1;33m\u001b[0m\u001b[0m\n\u001b[0;32m      7\u001b[0m     \u001b[1;32mexcept\u001b[0m\u001b[1;33m:\u001b[0m\u001b[1;33m\u001b[0m\u001b[1;33m\u001b[0m\u001b[0m\n\u001b[1;32m----> 8\u001b[1;33m         \u001b[0mprint\u001b[0m\u001b[1;33m(\u001b[0m\u001b[1;34mf'{i+1}.  {course_heading[i]}--->>> {course_subheading[i]} --->>> {course_links[i]} --->>> {sub_page_content_list[i][0][:5]} --->>> {unordered_lists[i][:5]} --->>> {page_table[i][0][:5]}'\u001b[0m\u001b[1;33m)\u001b[0m\u001b[1;33m\u001b[0m\u001b[1;33m\u001b[0m\u001b[0m\n\u001b[0m\u001b[0;32m      9\u001b[0m         \u001b[1;31m#print('\\n')\u001b[0m\u001b[1;33m\u001b[0m\u001b[1;33m\u001b[0m\u001b[1;33m\u001b[0m\u001b[0m\n",
      "\u001b[1;31mIndexError\u001b[0m: list index out of range"
     ]
    }
   ],
   "source": [
    "print(\"Heading ---->>>> Sub-Heading ---->>>> Course link ---->>>> Description ----> Unordered List---->>>> Tabular Data\")\n",
    "print('-----------------------------------------------------------------------------------------------------------------------')\n",
    "for i in range(length):\n",
    "    try:\n",
    "        print(f'{i+1}.  {course_heading[i]}--->>> {course_subheading[i]} --->>> {course_links[i]} --->>> {sub_page_content_list[i][0][:5]}... --->>> {unordered_lists[i][0][:5]}--->>> {page_table[i][0][:5]}')\n",
    "        print('\\n')\n",
    "    except:\n",
    "        print(f'{i+1}.  {course_heading[i]}--->>> {course_subheading[i]} --->>> {course_links[i]} --->>> {sub_page_content_list[i][0][:5]} --->>> {unordered_lists[i][:5]} --->>> {page_table[i][0][:5]}')\n",
    "        #print('\\n')"
   ]
  },
  {
   "cell_type": "markdown",
   "id": "6abb1bda",
   "metadata": {},
   "source": [
    "# Creating & Saving the dataset into csv file"
   ]
  },
  {
   "cell_type": "code",
   "execution_count": 214,
   "id": "72016a02",
   "metadata": {},
   "outputs": [],
   "source": [
    "from csv import writer\n",
    "\n",
    "with open('html_w3school.csv', 'w', encoding='utf8', newline='') as f:\n",
    "    the_writer = writer(f)\n",
    "    header = ['Heading', 'Sub-Heading', 'Links', 'Description', 'Table Data']\n",
    "    the_writer.writerow(header)\n",
    "    for i in range(length):\n",
    "        row = [course_heading[i], course_subheading[i], course_links[i], sub_page_content_list[i], page_table[i]]\n",
    "        the_writer.writerow(row)"
   ]
  },
  {
   "cell_type": "code",
   "execution_count": 215,
   "id": "06f9303c",
   "metadata": {},
   "outputs": [],
   "source": [
    "file = pd.read_csv('html_w3school.csv')\n",
    "dataset = pd.DataFrame(file)"
   ]
  },
  {
   "cell_type": "code",
   "execution_count": null,
   "id": "e8a9ab25",
   "metadata": {},
   "outputs": [],
   "source": []
  },
  {
   "cell_type": "code",
   "execution_count": 216,
   "id": "5750acaa",
   "metadata": {},
   "outputs": [
    {
     "data": {
      "text/html": [
       "<div>\n",
       "<style scoped>\n",
       "    .dataframe tbody tr th:only-of-type {\n",
       "        vertical-align: middle;\n",
       "    }\n",
       "\n",
       "    .dataframe tbody tr th {\n",
       "        vertical-align: top;\n",
       "    }\n",
       "\n",
       "    .dataframe thead th {\n",
       "        text-align: right;\n",
       "    }\n",
       "</style>\n",
       "<table border=\"1\" class=\"dataframe\">\n",
       "  <thead>\n",
       "    <tr style=\"text-align: right;\">\n",
       "      <th></th>\n",
       "      <th>Heading</th>\n",
       "      <th>Sub-Heading</th>\n",
       "      <th>Links</th>\n",
       "      <th>Description</th>\n",
       "      <th>Table Data</th>\n",
       "    </tr>\n",
       "  </thead>\n",
       "  <tbody>\n",
       "    <tr>\n",
       "      <th>0</th>\n",
       "      <td>HTML Tutorial</td>\n",
       "      <td>HTML HOME</td>\n",
       "      <td>https://www.w3schools.com/html/default.asp</td>\n",
       "      <td>['HTML is the standard markup language for Web...</td>\n",
       "      <td>['']</td>\n",
       "    </tr>\n",
       "    <tr>\n",
       "      <th>1</th>\n",
       "      <td>HTML Tutorial</td>\n",
       "      <td>HTML Introduction</td>\n",
       "      <td>https://www.w3schools.com/html/html_intro.asp</td>\n",
       "      <td>['HTML is the standard markup language for cre...</td>\n",
       "      <td>['&lt;h1&gt;|||My First Heading|||&lt;/h1&gt;&amp;&amp;&amp;&lt;p&gt;|||My f...</td>\n",
       "    </tr>\n",
       "    <tr>\n",
       "      <th>2</th>\n",
       "      <td>HTML Tutorial</td>\n",
       "      <td>HTML Editors</td>\n",
       "      <td>https://www.w3schools.com/html/html_editors.asp</td>\n",
       "      <td>['A simple text editor is all you need to lear...</td>\n",
       "      <td>['']</td>\n",
       "    </tr>\n",
       "    <tr>\n",
       "      <th>3</th>\n",
       "      <td>HTML Tutorial</td>\n",
       "      <td>HTML Basic</td>\n",
       "      <td>https://www.w3schools.com/html/html_basic.asp</td>\n",
       "      <td>['In this chapter we will show some basic HTML...</td>\n",
       "      <td>['']</td>\n",
       "    </tr>\n",
       "    <tr>\n",
       "      <th>4</th>\n",
       "      <td>HTML Tutorial</td>\n",
       "      <td>HTML Elements</td>\n",
       "      <td>https://www.w3schools.com/html/html_elements.asp</td>\n",
       "      <td>['An HTML element is defined by a start tag, s...</td>\n",
       "      <td>['&lt;h1&gt;|||My First Heading|||&lt;/h1&gt;&amp;&amp;&amp;&lt;p&gt;|||My f...</td>\n",
       "    </tr>\n",
       "    <tr>\n",
       "      <th>5</th>\n",
       "      <td>HTML Tutorial</td>\n",
       "      <td>HTML Attributes</td>\n",
       "      <td>https://www.w3schools.com/html/html_attributes...</td>\n",
       "      <td>['HTML attributes provide additional informati...</td>\n",
       "      <td>['']</td>\n",
       "    </tr>\n",
       "    <tr>\n",
       "      <th>6</th>\n",
       "      <td>HTML Tutorial</td>\n",
       "      <td>HTML Headings</td>\n",
       "      <td>https://www.w3schools.com/html/html_headings.asp</td>\n",
       "      <td>['HTML headings are titles or subtitles that y...</td>\n",
       "      <td>[\"&lt;html&gt;|||Defines the root of an HTML documen...</td>\n",
       "    </tr>\n",
       "    <tr>\n",
       "      <th>7</th>\n",
       "      <td>HTML Tutorial</td>\n",
       "      <td>HTML Paragraphs</td>\n",
       "      <td>https://www.w3schools.com/html/html_paragraphs...</td>\n",
       "      <td>['A paragraph always starts on a new line, and...</td>\n",
       "      <td>['&lt;p&gt;|||Defines a paragraph&amp;&amp;&amp;&lt;hr&gt;|||Defines a...</td>\n",
       "    </tr>\n",
       "    <tr>\n",
       "      <th>8</th>\n",
       "      <td>HTML Tutorial</td>\n",
       "      <td>HTML Styles</td>\n",
       "      <td>https://www.w3schools.com/html/html_styles.asp</td>\n",
       "      <td>['The HTML style attribute is used to add styl...</td>\n",
       "      <td>['']</td>\n",
       "    </tr>\n",
       "    <tr>\n",
       "      <th>9</th>\n",
       "      <td>HTML Tutorial</td>\n",
       "      <td>HTML Formatting</td>\n",
       "      <td>https://www.w3schools.com/html/html_formatting...</td>\n",
       "      <td>['HTML contains several elements for defining ...</td>\n",
       "      <td>['&lt;b&gt;|||Defines bold text&amp;&amp;&amp;&lt;em&gt;|||Defines emp...</td>\n",
       "    </tr>\n",
       "    <tr>\n",
       "      <th>10</th>\n",
       "      <td>HTML Tutorial</td>\n",
       "      <td>HTML Quotations</td>\n",
       "      <td>https://www.w3schools.com/html/html_quotation_...</td>\n",
       "      <td>['In this chapter we will go through the \\n&lt;bl...</td>\n",
       "      <td>['&lt;abbr&gt;|||Defines an abbreviation or acronym&amp;...</td>\n",
       "    </tr>\n",
       "    <tr>\n",
       "      <th>11</th>\n",
       "      <td>HTML Tutorial</td>\n",
       "      <td>HTML Comments</td>\n",
       "      <td>https://www.w3schools.com/html/html_comments.asp</td>\n",
       "      <td>['HTML comments are not displayed in the brows...</td>\n",
       "      <td>['']</td>\n",
       "    </tr>\n",
       "    <tr>\n",
       "      <th>12</th>\n",
       "      <td>HTML Tutorial</td>\n",
       "      <td>HTML Colors</td>\n",
       "      <td>https://www.w3schools.com/html/html_colors.asp</td>\n",
       "      <td>['HTML colors are specified with predefined co...</td>\n",
       "      <td>['']</td>\n",
       "    </tr>\n",
       "    <tr>\n",
       "      <th>13</th>\n",
       "      <td>HTML Tutorial</td>\n",
       "      <td>HTML CSS</td>\n",
       "      <td>https://www.w3schools.com/html/html_css.asp</td>\n",
       "      <td>['CSS stands for Cascading Style Sheets.', 'CS...</td>\n",
       "      <td>['&lt;style&gt;|||Defines style information for an H...</td>\n",
       "    </tr>\n",
       "    <tr>\n",
       "      <th>14</th>\n",
       "      <td>HTML Tutorial</td>\n",
       "      <td>HTML Links</td>\n",
       "      <td>https://www.w3schools.com/html/html_links.asp</td>\n",
       "      <td>['Links are found in nearly all web pages. Lin...</td>\n",
       "      <td>['&lt;a&gt;|||Defines a hyperlink']</td>\n",
       "    </tr>\n",
       "    <tr>\n",
       "      <th>15</th>\n",
       "      <td>HTML Tutorial</td>\n",
       "      <td>HTML Images</td>\n",
       "      <td>https://www.w3schools.com/html/html_images.asp</td>\n",
       "      <td>['Images can improve the design and the appear...</td>\n",
       "      <td>['APNG|||Animated Portable Network Graphics|||...</td>\n",
       "    </tr>\n",
       "    <tr>\n",
       "      <th>16</th>\n",
       "      <td>HTML Tutorial</td>\n",
       "      <td>HTML Favicon</td>\n",
       "      <td>https://www.w3schools.com/html/html_favicon.asp</td>\n",
       "      <td>['A favicon is a small image displayed next to...</td>\n",
       "      <td>['Edge|||Yes|||Yes|||Yes|||Yes|||Yes&amp;&amp;&amp;Chrome|...</td>\n",
       "    </tr>\n",
       "    <tr>\n",
       "      <th>17</th>\n",
       "      <td>HTML Tutorial</td>\n",
       "      <td>HTML Tables</td>\n",
       "      <td>https://www.w3schools.com/html/html_tables.asp</td>\n",
       "      <td>['HTML tables allow web developers to arrange ...</td>\n",
       "      <td>['Alfreds Futterkiste|||Maria Anders|||Germany...</td>\n",
       "    </tr>\n",
       "    <tr>\n",
       "      <th>18</th>\n",
       "      <td>HTML Tutorial</td>\n",
       "      <td>HTML Lists</td>\n",
       "      <td>https://www.w3schools.com/html/html_lists.asp</td>\n",
       "      <td>['HTML lists allow web developers to group a s...</td>\n",
       "      <td>['&lt;ul&gt;|||Defines an unordered list&amp;&amp;&amp;&lt;ol&gt;|||De...</td>\n",
       "    </tr>\n",
       "    <tr>\n",
       "      <th>19</th>\n",
       "      <td>HTML Tutorial</td>\n",
       "      <td>HTML Block &amp; Inline</td>\n",
       "      <td>https://www.w3schools.com/html/html_blocks.asp</td>\n",
       "      <td>['Every HTML element has a default display val...</td>\n",
       "      <td>['&lt;div&gt;|||Defines a section in a document (blo...</td>\n",
       "    </tr>\n",
       "  </tbody>\n",
       "</table>\n",
       "</div>"
      ],
      "text/plain": [
       "          Heading          Sub-Heading  \\\n",
       "0   HTML Tutorial            HTML HOME   \n",
       "1   HTML Tutorial    HTML Introduction   \n",
       "2   HTML Tutorial         HTML Editors   \n",
       "3   HTML Tutorial           HTML Basic   \n",
       "4   HTML Tutorial        HTML Elements   \n",
       "5   HTML Tutorial      HTML Attributes   \n",
       "6   HTML Tutorial        HTML Headings   \n",
       "7   HTML Tutorial      HTML Paragraphs   \n",
       "8   HTML Tutorial          HTML Styles   \n",
       "9   HTML Tutorial      HTML Formatting   \n",
       "10  HTML Tutorial      HTML Quotations   \n",
       "11  HTML Tutorial        HTML Comments   \n",
       "12  HTML Tutorial          HTML Colors   \n",
       "13  HTML Tutorial             HTML CSS   \n",
       "14  HTML Tutorial           HTML Links   \n",
       "15  HTML Tutorial          HTML Images   \n",
       "16  HTML Tutorial         HTML Favicon   \n",
       "17  HTML Tutorial          HTML Tables   \n",
       "18  HTML Tutorial           HTML Lists   \n",
       "19  HTML Tutorial  HTML Block & Inline   \n",
       "\n",
       "                                                Links  \\\n",
       "0          https://www.w3schools.com/html/default.asp   \n",
       "1       https://www.w3schools.com/html/html_intro.asp   \n",
       "2     https://www.w3schools.com/html/html_editors.asp   \n",
       "3       https://www.w3schools.com/html/html_basic.asp   \n",
       "4    https://www.w3schools.com/html/html_elements.asp   \n",
       "5   https://www.w3schools.com/html/html_attributes...   \n",
       "6    https://www.w3schools.com/html/html_headings.asp   \n",
       "7   https://www.w3schools.com/html/html_paragraphs...   \n",
       "8      https://www.w3schools.com/html/html_styles.asp   \n",
       "9   https://www.w3schools.com/html/html_formatting...   \n",
       "10  https://www.w3schools.com/html/html_quotation_...   \n",
       "11   https://www.w3schools.com/html/html_comments.asp   \n",
       "12     https://www.w3schools.com/html/html_colors.asp   \n",
       "13        https://www.w3schools.com/html/html_css.asp   \n",
       "14      https://www.w3schools.com/html/html_links.asp   \n",
       "15     https://www.w3schools.com/html/html_images.asp   \n",
       "16    https://www.w3schools.com/html/html_favicon.asp   \n",
       "17     https://www.w3schools.com/html/html_tables.asp   \n",
       "18      https://www.w3schools.com/html/html_lists.asp   \n",
       "19     https://www.w3schools.com/html/html_blocks.asp   \n",
       "\n",
       "                                          Description  \\\n",
       "0   ['HTML is the standard markup language for Web...   \n",
       "1   ['HTML is the standard markup language for cre...   \n",
       "2   ['A simple text editor is all you need to lear...   \n",
       "3   ['In this chapter we will show some basic HTML...   \n",
       "4   ['An HTML element is defined by a start tag, s...   \n",
       "5   ['HTML attributes provide additional informati...   \n",
       "6   ['HTML headings are titles or subtitles that y...   \n",
       "7   ['A paragraph always starts on a new line, and...   \n",
       "8   ['The HTML style attribute is used to add styl...   \n",
       "9   ['HTML contains several elements for defining ...   \n",
       "10  ['In this chapter we will go through the \\n<bl...   \n",
       "11  ['HTML comments are not displayed in the brows...   \n",
       "12  ['HTML colors are specified with predefined co...   \n",
       "13  ['CSS stands for Cascading Style Sheets.', 'CS...   \n",
       "14  ['Links are found in nearly all web pages. Lin...   \n",
       "15  ['Images can improve the design and the appear...   \n",
       "16  ['A favicon is a small image displayed next to...   \n",
       "17  ['HTML tables allow web developers to arrange ...   \n",
       "18  ['HTML lists allow web developers to group a s...   \n",
       "19  ['Every HTML element has a default display val...   \n",
       "\n",
       "                                           Table Data  \n",
       "0                                                ['']  \n",
       "1   ['<h1>|||My First Heading|||</h1>&&&<p>|||My f...  \n",
       "2                                                ['']  \n",
       "3                                                ['']  \n",
       "4   ['<h1>|||My First Heading|||</h1>&&&<p>|||My f...  \n",
       "5                                                ['']  \n",
       "6   [\"<html>|||Defines the root of an HTML documen...  \n",
       "7   ['<p>|||Defines a paragraph&&&<hr>|||Defines a...  \n",
       "8                                                ['']  \n",
       "9   ['<b>|||Defines bold text&&&<em>|||Defines emp...  \n",
       "10  ['<abbr>|||Defines an abbreviation or acronym&...  \n",
       "11                                               ['']  \n",
       "12                                               ['']  \n",
       "13  ['<style>|||Defines style information for an H...  \n",
       "14                      ['<a>|||Defines a hyperlink']  \n",
       "15  ['APNG|||Animated Portable Network Graphics|||...  \n",
       "16  ['Edge|||Yes|||Yes|||Yes|||Yes|||Yes&&&Chrome|...  \n",
       "17  ['Alfreds Futterkiste|||Maria Anders|||Germany...  \n",
       "18  ['<ul>|||Defines an unordered list&&&<ol>|||De...  \n",
       "19  ['<div>|||Defines a section in a document (blo...  "
      ]
     },
     "execution_count": 216,
     "metadata": {},
     "output_type": "execute_result"
    }
   ],
   "source": [
    "dataset.head(20)"
   ]
  },
  {
   "cell_type": "code",
   "execution_count": 217,
   "id": "92ed7fcb",
   "metadata": {},
   "outputs": [
    {
     "data": {
      "text/plain": [
       "'[\\'accept|||<input>|||Specifies the types of files that the server accepts (only for type=\"file\")&&&accept-charset|||<form>|||Specifies the character encodings that are to be used for the form \\\\nsubmission&&&accesskey|||Global Attributes|||Specifies a shortcut key to activate/focus an element&&&action|||<form>|||Specifies where to send the form-data when a form is submitted&&&align|||Not supported in HTML 5.|||Specifies the alignment according to surrounding elements. Use CSS instead&&&alt|||<area>, <img>, <input>|||Specifies an alternate text when the original element fails to display&&&async|||<script>|||Specifies that the script is executed asynchronously (only for external \\\\nscripts)&&&autocomplete|||<form>, <input>|||Specifies whether the <form> or the <input> element should have autocomplete \\\\nenabled&&&autofocus|||<button>, <input>, <select>, <textarea>|||Specifies that the element should automatically get focus when the page \\\\nloads&&&autoplay|||<audio>, <video>|||Specifies that the audio/video will start playing as soon as it is ready&&&bgcolor|||Not supported in HTML 5.|||Specifies the background color of an element. Use CSS instead&&&border|||Not supported in HTML 5.|||Specifies the width of the border of an element. Use CSS instead&&&charset|||<meta>, <script>|||Specifies the character encoding&&&checked|||<input>|||Specifies that an <input> element should be pre-selected when the page loads \\\\n(for type=\"checkbox\" or type=\"radio\")&&&cite|||<blockquote>, <del>, <ins>, <q>|||Specifies a URL which explains the quote/deleted/inserted text&&&class|||Global Attributes|||Specifies one or more classnames for an element (refers to a class in a \\\\nstyle sheet)&&&color|||Not supported in HTML 5.|||Specifies the text color of an element. Use CSS instead&&&cols|||<textarea>|||Specifies the visible width of a text area&&&colspan|||<td>, <th>|||Specifies the number of columns a table cell should span&&&content|||<meta>|||Gives the value associated with the http-equiv or name attribute&&&contenteditable|||Global Attributes|||Specifies whether the content of an element is editable or not&&&controls|||<audio>, <video>|||Specifies that audio/video controls should be displayed (such as a \\\\nplay/pause button etc)&&&coords|||<area>|||Specifies the coordinates of the area&&&data|||<object>|||Specifies the URL of the resource to be used by the object&&&data-*|||Global Attributes|||Used to store custom data private to the page or application&&&datetime|||<del>, <ins>, <time>|||Specifies the date and time&&&default|||<track>|||Specifies that the track is to be enabled if the user\\\\\\'s preferences do not \\\\nindicate that another track would be more appropriate&&&defer|||<script>|||Specifies that the script is executed when the page has finished parsing \\\\n(only for external scripts)&&&dir|||Global Attributes|||Specifies the text direction for the content in an element&&&dirname|||<input>, <textarea>|||Specifies that the text direction will be submitted&&&disabled|||<button>, <fieldset>, <input>, <optgroup>, <option>, <select>, \\\\n<textarea>|||Specifies that the specified element/group of elements should be disabled&&&download|||<a>, <area>|||Specifies that the target will be downloaded when a user clicks on the \\\\nhyperlink&&&draggable|||Global Attributes|||Specifies whether an element is draggable or not&&&enctype|||<form>|||Specifies how the form-data should be encoded when submitting it to the \\\\nserver (only for method=\"post\")&&&for|||<label>, <output>|||Specifies which form element(s) a label/calculation is bound to&&&form|||<button>, <fieldset>, <input>, <label>, <meter>, <object>, \\\\n<output>, <select>, <textarea>|||Specifies the name of the form the element belongs to&&&formaction|||<button>, <input>|||Specifies where to send the form-data when a form is submitted. Only for \\\\ntype=\"submit\"&&&headers|||<td>, <th>|||Specifies one or more headers cells a cell is related to&&&height|||<canvas>, <embed>, <iframe>, <img>, <input>, <object>, <video>|||Specifies the height of the element&&&hidden|||Global Attributes|||Specifies that an element is not yet, or is no longer, relevant&&&high|||<meter>|||Specifies the range that is considered to be a high value&&&href|||<a>, <area>, <base>, <link>|||Specifies the URL of the page the link goes to&&&hreflang|||<a>, <area>, <link>|||Specifies the language of the linked document&&&http-equiv|||<meta>|||Provides an HTTP header for the information/value of the content attribute&&&id|||Global Attributes|||Specifies a unique id for an element&&&ismap|||<img>|||Specifies an image as a server-side image map&&&kind|||<track>|||Specifies the kind of text track&&&label|||<track>, <option>, <optgroup>|||Specifies the title of the text track&&&lang|||Global Attributes|||Specifies the language of the element\\\\\\'s content&&&list|||<input>|||Refers to a <datalist> element that contains pre-defined options for an <input> \\\\nelement&&&loop|||<audio>, <video>|||Specifies that the audio/video will start over again, every time it is \\\\nfinished&&&low|||<meter>|||Specifies the range that is considered to be a low value&&&max|||<input>, <meter>, <progress>|||Specifies the maximum value&&&maxlength|||<input>, <textarea>|||Specifies the maximum number of characters allowed in an element&&&media|||<a>, <area>, <link>, <source>, <style>|||Specifies what media/device the linked document is optimized for&&&method|||<form>|||Specifies the HTTP method to use when sending form-data&&&min|||<input>, <meter>|||Specifies a minimum value&&&multiple|||<input>, <select>|||Specifies that a user can enter more than one value&&&muted|||<video>, <audio>|||Specifies that the audio output of the video should be muted&&&name|||<button>, <fieldset>, <form>, <iframe>, <input>, <map>, <meta>, \\\\n<object>, <output>, <param>, <select>, <textarea>|||Specifies the name of the element&&&novalidate|||<form>|||Specifies that the form should not be validated when submitted&&&onabort|||<audio>, <embed>, <img>, <object>, <video>|||Script to be run on abort&&&onafterprint|||<body>|||Script to be run after the document is printed&&&onbeforeprint|||<body>|||Script to be run before the document is printed&&&onbeforeunload|||<body>|||Script to be run when the document is about to be unloaded&&&onblur|||All visible elements.|||Script to be run when the element loses focus&&&oncanplay|||<audio>, <embed>, <object>, <video>|||Script to be run when a file is ready to start playing (when it has buffered \\\\nenough to begin)&&&oncanplaythrough|||<audio>, <video>|||Script to be run when a file can be played all the way to the end without \\\\npausing for buffering&&&onchange|||All visible elements.|||Script to be run when the value of the element is changed&&&onclick|||All visible elements.|||Script to be run when the element is being clicked&&&oncontextmenu|||All visible elements.|||Script to be run when a context menu is triggered&&&oncopy|||All visible elements.|||Script to be run when the content of the element is being copied&&&oncuechange|||<track>|||Script to be run when the cue changes in a <track> element&&&oncut|||All visible elements.|||Script to be run when the content of the element is being cut&&&ondblclick|||All visible elements.|||Script to be run when the element is being double-clicked&&&ondrag|||All visible elements.|||Script to be run when the element is being dragged&&&ondragend|||All visible elements.|||Script to be run at the end of a drag operation&&&ondragenter|||All visible elements.|||Script to be run when an element has been dragged to a valid drop target&&&ondragleave|||All visible elements.|||Script to be run when an element leaves a valid drop target&&&ondragover|||All visible elements.|||Script to be run when an element is being dragged over a valid drop target&&&ondragstart|||All visible elements.|||Script to be run at the start of a drag operation&&&ondrop|||All visible elements.|||Script to be run when dragged element is being dropped&&&ondurationchange|||<audio>, <video>|||Script to be run when the length of the media changes&&&onemptied|||<audio>, <video>|||Script to be run when something bad happens and the file is suddenly \\\\nunavailable (like unexpectedly disconnects)&&&onended|||<audio>, <video>|||Script to be run when the media has reach the end (a useful event for \\\\nmessages like \"thanks for listening\")&&&onerror|||<audio>, <body>, <embed>, <img>, <object>, <script>, <style>, <video>|||Script to be run when an error occurs&&&onfocus|||All visible elements.|||Script to be run when the element gets focus&&&onhashchange|||<body>|||Script to be run when there has been changes to the anchor part of the a URL&&&oninput|||All visible elements.|||Script to be run when the element gets user input&&&oninvalid|||All visible elements.|||Script to be run when the element is invalid&&&onkeydown|||All visible elements.|||Script to be run when a user is pressing a key&&&onkeypress|||All visible elements.|||Script to be run when a user presses a key&&&onkeyup|||All visible elements.|||Script to be run when a user releases a key&&&onload|||<body>, <iframe>, <img>, <input>, <link>, <script>, <style>|||Script to be run when the element is finished loading&&&onloadeddata|||<audio>, <video>|||Script to be run when media data is loaded&&&onloadedmetadata|||<audio>, <video>|||Script to be run when meta data (like dimensions and duration) are loaded&&&onloadstart|||<audio>, <video>|||Script to be run just as the file begins to load before anything is actually \\\\nloaded&&&onmousedown|||All visible elements.|||Script to be run when a mouse button is pressed down on an element&&&onmousemove|||All visible elements.|||Script to be run as long as the\\\\xa0 mouse pointer is moving over an element&&&onmouseout|||All visible elements.|||Script to be run when a mouse pointer moves out of an element&&&onmouseover|||All visible elements.|||Script to be run when a mouse pointer moves over an element&&&onmouseup|||All visible elements.|||Script to be run when a mouse button is released over an element&&&onmousewheel|||All visible elements.|||Script to be run when a mouse wheel is being scrolled over an element&&&onoffline|||<body>|||Script to be run when the browser starts to work offline&&&ononline|||<body>|||Script to be run when the browser starts to work online&&&onpagehide|||<body>|||Script to be run when a user navigates away from a page&&&onpageshow|||<body>|||Script to be run when a user navigates to a page&&&onpaste|||All visible elements.|||Script to be run when the user pastes some content in an element&&&onpause|||<audio>, <video>|||Script to be run when the media is paused either by the user or \\\\nprogrammatically&&&onplay|||<audio>, <video>|||Script to be run when the media has started playing&&&onplaying|||<audio>, <video>|||Script to be run when the media has started playing&&&onpopstate|||<body>|||Script to be run when the window\\\\\\'s history changes.&&&onprogress|||<audio>, <video>|||Script to be run when the browser is in the process of getting the media \\\\ndata&&&onratechange|||<audio>, <video>|||Script to be run each time the playback rate changes (like when a user \\\\nswitches to a slow motion or fast forward mode).&&&onreset|||<form>|||Script to be run when a reset button in a form is clicked.&&&onresize|||<body>|||Script to be run when the browser window is being resized.&&&onscroll|||All visible elements.|||Script to be run when an element\\\\\\'s scrollbar is being scrolled&&&onsearch|||<input>|||Script to be run when the user writes something in a search field (for \\\\n<input=\"search\">)&&&onseeked|||<audio>, <video>|||Script to be run when the seeking attribute is set to false indicating that \\\\nseeking has ended&&&onseeking|||<audio>, <video>|||Script to be run when the seeking attribute is set to true indicating that \\\\nseeking is active&&&onselect|||All visible elements.|||Script to be run when the element gets selected&&&onstalled|||<audio>, <video>|||Script to be run when the browser is unable to fetch the media data for \\\\nwhatever reason&&&onstorage|||<body>|||Script to be run when a Web Storage area is updated&&&onsubmit|||<form>|||Script to be run when a form is submitted&&&onsuspend|||<audio>, <video>|||Script to be run when fetching the media data is stopped before it is \\\\ncompletely loaded for whatever reason&&&ontimeupdate|||<audio>, <video>|||Script to be run when the playing position has changed (like when the user \\\\nfast forwards to a different point in the media)&&&ontoggle|||<details>|||Script to be run when the user opens or closes the <details> element&&&onunload|||<body>|||Script to be run when a page has unloaded (or the browser window has been \\\\nclosed)&&&onvolumechange|||<audio>, <video>|||Script to be run each time the volume of a video/audio has been changed&&&onwaiting|||<audio>, <video>|||Script to be run when the media has paused but is expected to resume (like \\\\nwhen the media pauses to buffer more data)&&&onwheel|||All visible elements.|||Script to be run when the mouse wheel rolls up or down over an element&&&open|||<details>|||Specifies that the details should be visible (open) to the user&&&optimum|||<meter>|||Specifies what value is the optimal value for the gauge&&&pattern|||<input>|||Specifies a regular expression that an <input> element\\\\\\'s value is checked \\\\nagainst&&&placeholder|||<input>, <textarea>|||Specifies a short hint that describes the expected value of the element&&&poster|||<video>|||Specifies an image to be shown while the video is downloading, or until the \\\\nuser hits the play button&&&preload|||<audio>, <video>|||Specifies if and how the author thinks the audio/video should be loaded when \\\\nthe page loads&&&readonly|||<input>, <textarea>|||Specifies that the element is read-only&&&rel|||<a>, <area>, \\\\n<form>, <link>|||Specifies the relationship between the current document and the linked \\\\ndocument&&&required|||<input>, <select>, <textarea>|||Specifies that the element must be filled out before submitting the form&&&reversed|||<ol>|||Specifies that the list order should be descending (9,8,7...)&&&rows|||<textarea>|||Specifies the visible number of lines in a text area&&&rowspan|||<td>, <th>|||Specifies the number of rows a table cell should span&&&sandbox|||<iframe>|||Enables an extra set of restrictions for the content in an <iframe>&&&scope|||<th>|||Specifies whether a header cell is a header for a column, row, or group of \\\\ncolumns or rows&&&selected|||<option>|||Specifies that an option should be pre-selected when the page loads&&&shape|||<area>|||Specifies the shape of the area&&&size|||<input>, <select>|||Specifies the width, in characters (for <input>) or specifies the number of \\\\nvisible options (for <select>)&&&sizes|||<img>, <link>,\\\\n<source>|||Specifies the size of the linked resource&&&span|||<col>, <colgroup>|||Specifies the number of columns to span&&&spellcheck|||Global Attributes|||Specifies whether the element is to have its spelling and grammar checked or \\\\nnot&&&src|||<audio>, <embed>, <iframe>, <img>, <input>, <script>, <source>, <track>, \\\\n<video>|||Specifies the URL of the media file&&&srcdoc|||<iframe>|||Specifies the HTML content of the page to show in the <iframe>&&&srclang|||<track>|||Specifies the language of the track text data (required if kind=\"subtitles\")&&&srcset|||<img>, <source>|||Specifies the URL of the image to use in different situations&&&start|||<ol>|||Specifies the start value of an ordered list&&&step|||<input>|||Specifies the legal number intervals for an input field&&&style|||Global Attributes|||Specifies an inline CSS style for an element&&&tabindex|||Global Attributes|||Specifies the tabbing order of an element&&&target|||<a>, <area>, <base>, <form>|||Specifies the target for where to open the linked document or where to \\\\nsubmit the form&&&title|||Global Attributes|||Specifies extra information about an element&&&translate|||Global Attributes|||Specifies whether the content of an element should be translated or not&&&type|||<a>, <button>, <embed>, <input>, <link>, <menu>, <object>, <script>, \\\\n<source>, <style>|||Specifies the type of element&&&usemap|||<img>, <object>|||Specifies an image as a client-side image map&&&value|||<button>, <input>, <li>, <option>, \\\\n<meter>, <progress>, <param>|||Specifies the value of the element&&&width|||<canvas>, <embed>, <iframe>, <img>, <input>, <object>, <video>|||Specifies the width of the element&&&wrap|||<textarea>|||Specifies how the text in a text area is to be wrapped when submitted in a \\\\nform\\']'"
      ]
     },
     "execution_count": 217,
     "metadata": {},
     "output_type": "execute_result"
    }
   ],
   "source": [
    "dataset['Table Data'][62]"
   ]
  },
  {
   "cell_type": "code",
   "execution_count": 177,
   "id": "0146f261",
   "metadata": {},
   "outputs": [],
   "source": [
    "u = 'https://www.w3schools.com/html/html_links.asp'\n",
    "r = requests.get(u)"
   ]
  },
  {
   "cell_type": "code",
   "execution_count": 178,
   "id": "6023396d",
   "metadata": {},
   "outputs": [],
   "source": [
    "sp = BeautifulSoup(r.content, 'html.parser')"
   ]
  },
  {
   "cell_type": "code",
   "execution_count": 179,
   "id": "302f3881",
   "metadata": {},
   "outputs": [],
   "source": [
    "ul = sp.find_all('ul')"
   ]
  },
  {
   "cell_type": "code",
   "execution_count": 166,
   "id": "bf14ad49",
   "metadata": {},
   "outputs": [],
   "source": [
    "list_types = ['ul', 'ol']"
   ]
  },
  {
   "cell_type": "code",
   "execution_count": 167,
   "id": "3c51b12d",
   "metadata": {},
   "outputs": [],
   "source": [
    "for i in main_body:\n",
    "    ul = i.find_all('ul')\n",
    "    "
   ]
  },
  {
   "cell_type": "code",
   "execution_count": 180,
   "id": "f18b84f3",
   "metadata": {},
   "outputs": [
    {
     "name": "stdout",
     "output_type": "stream",
     "text": [
      "An unvisited link is underlined and blue\n",
      "A visited link is underlined and purple\n",
      "An active link is underlined and red\n",
      "_self - Default. Opens the document in   the same window/tab as it was clicked\n",
      "_blank - Opens the document in a new window or tab\n",
      "_parent - Opens the document in the parent frame\n",
      "_top - Opens the document in the full body of the window\n",
      "Use the <a> element to define a link\n",
      "Use the href attribute to define the link address\n",
      "Use the target attribute to define where to open the linked document\n",
      "Use the <img> element (inside <a>)   to use an image as a link\n",
      "Use the   mailto: scheme inside the href attribute to create a link that opens the user's email program\n"
     ]
    }
   ],
   "source": [
    "uu = []\n",
    "for i in ul:\n",
    "    s = ''\n",
    "    for j in i:\n",
    "        if j.text != '\\n':\n",
    "            print(j.text.replace('\\n',''))\n",
    "            s += j.text.replace('\\n','') + '@@@'\n",
    "    s = s[:-3]\n",
    "    uu.append(s)"
   ]
  },
  {
   "cell_type": "code",
   "execution_count": 181,
   "id": "fe6e6213",
   "metadata": {},
   "outputs": [
    {
     "data": {
      "text/plain": [
       "['An unvisited link is underlined and blue@@@A visited link is underlined and purple@@@An active link is underlined and red',\n",
       " '_self - Default. Opens the document in   the same window/tab as it was clicked@@@_blank - Opens the document in a new window or tab@@@_parent - Opens the document in the parent frame@@@_top - Opens the document in the full body of the window',\n",
       " \"Use the <a> element to define a link@@@Use the href attribute to define the link address@@@Use the target attribute to define where to open the linked document@@@Use the <img> element (inside <a>)   to use an image as a link@@@Use the   mailto: scheme inside the href attribute to create a link that opens the user's email program\"]"
      ]
     },
     "execution_count": 181,
     "metadata": {},
     "output_type": "execute_result"
    }
   ],
   "source": [
    "uu"
   ]
  },
  {
   "cell_type": "code",
   "execution_count": 173,
   "id": "6196459e",
   "metadata": {},
   "outputs": [],
   "source": [
    "dl = sp.find_all('dl')"
   ]
  },
  {
   "cell_type": "code",
   "execution_count": 174,
   "id": "0bfc3bf9",
   "metadata": {},
   "outputs": [
    {
     "data": {
      "text/plain": [
       "[]"
      ]
     },
     "execution_count": 174,
     "metadata": {},
     "output_type": "execute_result"
    }
   ],
   "source": [
    "dl"
   ]
  },
  {
   "cell_type": "code",
   "execution_count": null,
   "id": "745e6098",
   "metadata": {},
   "outputs": [],
   "source": []
  }
 ],
 "metadata": {
  "kernelspec": {
   "display_name": "Python 3 (ipykernel)",
   "language": "python",
   "name": "python3"
  },
  "language_info": {
   "codemirror_mode": {
    "name": "ipython",
    "version": 3
   },
   "file_extension": ".py",
   "mimetype": "text/x-python",
   "name": "python",
   "nbconvert_exporter": "python",
   "pygments_lexer": "ipython3",
   "version": "3.8.8"
  }
 },
 "nbformat": 4,
 "nbformat_minor": 5
}
